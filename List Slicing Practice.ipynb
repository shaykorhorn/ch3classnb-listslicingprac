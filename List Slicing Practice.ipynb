{
 "cells": [
  {
   "cell_type": "markdown",
   "id": "d6199a45",
   "metadata": {},
   "source": [
    "* Shay Korhorn\n",
    "* List slicing practice\n",
    "* Version 1\n",
    "* Fall 2023"
   ]
  },
  {
   "cell_type": "markdown",
   "id": "84114222",
   "metadata": {},
   "source": [
    "### Practice Questions on Lists\n",
    "(Submit the notebook on Moodle using Github along with the class notebook)"
   ]
  },
  {
   "cell_type": "markdown",
   "id": "0891df79",
   "metadata": {},
   "source": [
    "### numbers = [0, 1, 2, 3, 4, 5, 6, 7, 8, 9]\n",
    "1. Get the first three elements.\n",
    "2. Get elements from index 3 to 6 (inclusive).\n",
    "3. Get the last three elements.\n",
    "4. Get every second element from the list.\n",
    "5. Get a reverse of the list."
   ]
  },
  {
   "cell_type": "code",
   "execution_count": 1,
   "id": "5efba997",
   "metadata": {},
   "outputs": [],
   "source": [
    "numbers = [0,1,2,3,4,5,6,7,8,9,]"
   ]
  },
  {
   "cell_type": "code",
   "execution_count": 2,
   "id": "2183500f",
   "metadata": {},
   "outputs": [
    {
     "name": "stdout",
     "output_type": "stream",
     "text": [
      "First three numbers: [0, 1, 2]\n"
     ]
    }
   ],
   "source": [
    "print(f\"First three numbers: {numbers[:3]}\")"
   ]
  },
  {
   "cell_type": "code",
   "execution_count": 3,
   "id": "083674e6",
   "metadata": {},
   "outputs": [
    {
     "name": "stdout",
     "output_type": "stream",
     "text": [
      "numbers index 3 to 6: [3, 4, 5, 6]\n"
     ]
    }
   ],
   "source": [
    "print(f\"numbers index 3 to 6: {numbers[3:7]}\")"
   ]
  },
  {
   "cell_type": "code",
   "execution_count": 4,
   "id": "df2651ef",
   "metadata": {},
   "outputs": [
    {
     "name": "stdout",
     "output_type": "stream",
     "text": [
      "last three : [7, 8, 9]\n"
     ]
    }
   ],
   "source": [
    "print(f\"last three : {numbers [-3:]}\")"
   ]
  },
  {
   "cell_type": "code",
   "execution_count": 5,
   "id": "7cba1708",
   "metadata": {
    "scrolled": true
   },
   "outputs": [
    {
     "name": "stdout",
     "output_type": "stream",
     "text": [
      "Every second elements: [0, 2, 4, 6, 8]\n"
     ]
    }
   ],
   "source": [
    "print(f\"Every second elements: {numbers[::2]}\")"
   ]
  },
  {
   "cell_type": "code",
   "execution_count": 6,
   "id": "f0577517",
   "metadata": {},
   "outputs": [
    {
     "name": "stdout",
     "output_type": "stream",
     "text": [
      "Reverse : [9, 8, 7, 6, 5, 4, 3, 2, 1, 0]\n"
     ]
    }
   ],
   "source": [
    "print(f\"Reverse : {numbers[::-1]}\")"
   ]
  },
  {
   "cell_type": "markdown",
   "id": "dcc22463",
   "metadata": {},
   "source": [
    "### letters = ['a', 'b', 'c', 'd', 'e', 'f', 'g', 'h', 'i', 'j']\n",
    "1. Get every second letter starting from the first letter.\n",
    "2. Get every third letter starting from the second letter.\n",
    "3. Get every fourth letter starting from the third letter."
   ]
  },
  {
   "cell_type": "code",
   "execution_count": 7,
   "id": "34576f2b",
   "metadata": {},
   "outputs": [],
   "source": [
    "letters = ['a', 'b', 'c', 'd', 'e', 'f', 'g', 'h', 'i', 'j']"
   ]
  },
  {
   "cell_type": "code",
   "execution_count": 8,
   "id": "7f3f0694",
   "metadata": {},
   "outputs": [
    {
     "name": "stdout",
     "output_type": "stream",
     "text": [
      "every second letter starting from first letter: ['a', 'c', 'e', 'g', 'i']\n"
     ]
    }
   ],
   "source": [
    "print(f\"every second letter starting from first letter: {letters[::2]}\")"
   ]
  },
  {
   "cell_type": "code",
   "execution_count": 10,
   "id": "4cb061e3",
   "metadata": {},
   "outputs": [
    {
     "name": "stdout",
     "output_type": "stream",
     "text": [
      "every third letter starting from the second letter\n",
      "['b', 'e', 'h']\n"
     ]
    }
   ],
   "source": [
    "print(f\"every third letter starting from the second letter\")\n",
    "print(letters[1::3])"
   ]
  },
  {
   "cell_type": "code",
   "execution_count": 11,
   "id": "4540bc21",
   "metadata": {},
   "outputs": [
    {
     "name": "stdout",
     "output_type": "stream",
     "text": [
      "every fourth letter starting from the third letter\n",
      "['c', 'g']\n"
     ]
    }
   ],
   "source": [
    "print(f\"every fourth letter starting from the third letter\")\n",
    "print(letters[2::4])"
   ]
  },
  {
   "cell_type": "markdown",
   "id": "ee041ed9",
   "metadata": {},
   "source": [
    "### colors = ['red', 'green', 'blue', 'yellow', 'purple']\n",
    "1. Get the last two elements.\n",
    "2. Get elements from the third to the last element.\n",
    "3. Get a reverse of the list using negative indexing."
   ]
  },
  {
   "cell_type": "code",
   "execution_count": 12,
   "id": "0e5e09a0",
   "metadata": {},
   "outputs": [],
   "source": [
    "colors = ['red', 'green', 'blue', 'yellow', 'purple']"
   ]
  },
  {
   "cell_type": "code",
   "execution_count": 13,
   "id": "54a6f796",
   "metadata": {},
   "outputs": [
    {
     "name": "stdout",
     "output_type": "stream",
     "text": [
      "the last two elements: ['yellow', 'purple']\n"
     ]
    }
   ],
   "source": [
    "print(f\"the last two elements: {colors[-2:]}\")"
   ]
  },
  {
   "cell_type": "code",
   "execution_count": 14,
   "id": "7f2a4b5d",
   "metadata": {},
   "outputs": [
    {
     "name": "stdout",
     "output_type": "stream",
     "text": [
      "elements from the third to the last element: ['blue', 'yellow', 'purple']\n"
     ]
    }
   ],
   "source": [
    "print(f\"elements from the third to the last element: {colors[2:]}\")"
   ]
  },
  {
   "cell_type": "code",
   "execution_count": 15,
   "id": "ff2cd83c",
   "metadata": {},
   "outputs": [
    {
     "name": "stdout",
     "output_type": "stream",
     "text": [
      "reverse of the list using negative indexing: ['purple', 'yellow', 'blue', 'green', 'red']\n"
     ]
    }
   ],
   "source": [
    "print(f\"reverse of the list using negative indexing: {colors[::-1]}\")"
   ]
  },
  {
   "cell_type": "code",
   "execution_count": 16,
   "id": "3d1e910d",
   "metadata": {},
   "outputs": [
    {
     "name": "stdout",
     "output_type": "stream",
     "text": [
      "Reverse the list with step of two: ['purple', 'blue', 'red']\n"
     ]
    }
   ],
   "source": [
    "print(f\"Reverse the list with step of two: {colors[::-2]}\")"
   ]
  },
  {
   "cell_type": "markdown",
   "id": "015a43d4",
   "metadata": {},
   "source": [
    "## Slicing Nested Lists\n",
    "### matrix = [[1, 2, 3], [4, 5, 6], [7, 8, 9]]\n",
    "1. Extract the second row (list [4, 5, 6]).\n",
    "2. Extract the number 2.\n",
    "3. Extract the number 9."
   ]
  },
  {
   "cell_type": "code",
   "execution_count": 17,
   "id": "b45aca96",
   "metadata": {},
   "outputs": [],
   "source": [
    "matrix = [[1, 2, 3], [4, 5, 6], [7, 8, 9]]"
   ]
  },
  {
   "cell_type": "code",
   "execution_count": 18,
   "id": "3cef0e46",
   "metadata": {},
   "outputs": [
    {
     "name": "stdout",
     "output_type": "stream",
     "text": [
      "extract the second row: [4, 5, 6]\n"
     ]
    }
   ],
   "source": [
    "print(f\"extract the second row: {matrix[1]}\")"
   ]
  },
  {
   "cell_type": "code",
   "execution_count": 19,
   "id": "f6912ee9",
   "metadata": {},
   "outputs": [
    {
     "name": "stdout",
     "output_type": "stream",
     "text": [
      "extract the number 2: 2\n"
     ]
    }
   ],
   "source": [
    "print(f\"extract the number 2: {matrix[0][1]}\")"
   ]
  },
  {
   "cell_type": "code",
   "execution_count": 20,
   "id": "63e4c8ee",
   "metadata": {},
   "outputs": [
    {
     "name": "stdout",
     "output_type": "stream",
     "text": [
      "extract the number 9: 9\n"
     ]
    }
   ],
   "source": [
    "print(f\"extract the number 9: {matrix[2][2]}\")"
   ]
  },
  {
   "cell_type": "markdown",
   "id": "bba4fbd7",
   "metadata": {},
   "source": [
    "### Matrix1=['Day', [23,45],'Monday', [[12,13],[14,15]]]\n",
    "- Print Monday\n",
    "- Print 13\n",
    "- Print 15\n",
    "- Print 45\n",
    "- Print Day"
   ]
  },
  {
   "cell_type": "code",
   "execution_count": 22,
   "id": "24ff61de",
   "metadata": {},
   "outputs": [
    {
     "name": "stdout",
     "output_type": "stream",
     "text": [
      "['Day', [23, 45], 'Monday', [[12, 13], [14, 15]]]\n"
     ]
    }
   ],
   "source": [
    "matrix1=['Day', [23,45],'Monday', [[12,13],[14,15]]]\n",
    "print(matrix1)"
   ]
  },
  {
   "cell_type": "code",
   "execution_count": 23,
   "id": "cf0c988e",
   "metadata": {},
   "outputs": [
    {
     "name": "stdout",
     "output_type": "stream",
     "text": [
      "Monday: Monday\n"
     ]
    }
   ],
   "source": [
    "print(f'Monday: {matrix1[2]}')"
   ]
  },
  {
   "cell_type": "code",
   "execution_count": 27,
   "id": "64c2db5b",
   "metadata": {},
   "outputs": [
    {
     "name": "stdout",
     "output_type": "stream",
     "text": [
      "13: 13\n"
     ]
    }
   ],
   "source": [
    "print(f'13: {matrix1[3][0][1]}')"
   ]
  },
  {
   "cell_type": "code",
   "execution_count": 29,
   "id": "27f2fcd7",
   "metadata": {},
   "outputs": [
    {
     "name": "stdout",
     "output_type": "stream",
     "text": [
      "15: 15\n"
     ]
    }
   ],
   "source": [
    "print(f'15: {matrix1[3][1][1]}')"
   ]
  },
  {
   "cell_type": "code",
   "execution_count": 30,
   "id": "7f320811",
   "metadata": {},
   "outputs": [
    {
     "name": "stdout",
     "output_type": "stream",
     "text": [
      "45: 45\n"
     ]
    }
   ],
   "source": [
    "print(f'45: {matrix1[1][1]}')"
   ]
  },
  {
   "cell_type": "code",
   "execution_count": 31,
   "id": "f3caf764",
   "metadata": {},
   "outputs": [
    {
     "name": "stdout",
     "output_type": "stream",
     "text": [
      "Day: Day\n"
     ]
    }
   ],
   "source": [
    "print(f'Day: {matrix1[0]}')"
   ]
  }
 ],
 "metadata": {
  "kernelspec": {
   "display_name": "Python 3 (ipykernel)",
   "language": "python",
   "name": "python3"
  },
  "language_info": {
   "codemirror_mode": {
    "name": "ipython",
    "version": 3
   },
   "file_extension": ".py",
   "mimetype": "text/x-python",
   "name": "python",
   "nbconvert_exporter": "python",
   "pygments_lexer": "ipython3",
   "version": "3.11.4"
  }
 },
 "nbformat": 4,
 "nbformat_minor": 5
}
